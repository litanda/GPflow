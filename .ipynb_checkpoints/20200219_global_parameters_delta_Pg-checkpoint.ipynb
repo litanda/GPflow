{
 "cells": [
  {
   "cell_type": "code",
   "execution_count": 1,
   "metadata": {},
   "outputs": [],
   "source": [
    "import gpflow\n",
    "import numpy as np\n",
    "import matplotlib\n",
    "from gpflow.utilities import print_summary\n",
    "import pandas as pd\n",
    "gpflow.config.set_default_summary_fmt(\"notebook\")\n",
    "\n",
    "# The lines below are specific to the notebook format\n",
    "%matplotlib inline\n",
    "params = {'legend.fontsize': 'x-large',\n",
    "          'figure.figsize': (6, 5),\n",
    "         'axes.labelsize': 'x-large',\n",
    "         'axes.titlesize':'x-large',\n",
    "         'xtick.labelsize':'x-large',\n",
    "         'ytick.labelsize':'x-large'}\n",
    "matplotlib.rcParams.update(params)\n",
    "plt = matplotlib.pyplot"
   ]
  },
  {
   "cell_type": "markdown",
   "metadata": {},
   "source": [
    "# Import and inspect data"
   ]
  },
  {
   "cell_type": "code",
   "execution_count": 2,
   "metadata": {},
   "outputs": [
    {
     "name": "stdout",
     "output_type": "stream",
     "text": [
      "['initial_mass' 'initial_feh' 'star_age' 'effective_T' 'radius' 'log_g'\n",
      " 'nu_max' 'delta_nu' 'delta_Pg']\n",
      "399\n"
     ]
    },
    {
     "name": "stderr",
     "output_type": "stream",
     "text": [
      "/opt/anaconda3/lib/python3.7/site-packages/ipykernel_launcher.py:21: RuntimeWarning: divide by zero encountered in log10\n",
      "/opt/anaconda3/lib/python3.7/site-packages/pandas/core/frame.py:3494: SettingWithCopyWarning: \n",
      "A value is trying to be set on a copy of a slice from a DataFrame.\n",
      "Try using .loc[row_indexer,col_indexer] = value instead\n",
      "\n",
      "See the caveats in the documentation: http://pandas.pydata.org/pandas-docs/stable/user_guide/indexing.html#returning-a-view-versus-a-copy\n",
      "  self[k1] = value[k2]\n"
     ]
    },
    {
     "data": {
      "text/html": [
       "<div>\n",
       "<style scoped>\n",
       "    .dataframe tbody tr th:only-of-type {\n",
       "        vertical-align: middle;\n",
       "    }\n",
       "\n",
       "    .dataframe tbody tr th {\n",
       "        vertical-align: top;\n",
       "    }\n",
       "\n",
       "    .dataframe thead th {\n",
       "        text-align: right;\n",
       "    }\n",
       "</style>\n",
       "<table border=\"1\" class=\"dataframe\">\n",
       "  <thead>\n",
       "    <tr style=\"text-align: right;\">\n",
       "      <th></th>\n",
       "      <th>initial_mass</th>\n",
       "      <th>initial_feh</th>\n",
       "      <th>star_age</th>\n",
       "      <th>effective_T</th>\n",
       "      <th>radius</th>\n",
       "      <th>log_g</th>\n",
       "      <th>nu_max</th>\n",
       "      <th>delta_nu</th>\n",
       "      <th>delta_Pg</th>\n",
       "    </tr>\n",
       "  </thead>\n",
       "  <tbody>\n",
       "    <tr>\n",
       "      <td>1301</td>\n",
       "      <td>1.0</td>\n",
       "      <td>0.5</td>\n",
       "      <td>9.984440</td>\n",
       "      <td>3.765655</td>\n",
       "      <td>0.116480</td>\n",
       "      <td>4.204929</td>\n",
       "      <td>3.255022</td>\n",
       "      <td>1.955716</td>\n",
       "      <td>4.333874</td>\n",
       "    </tr>\n",
       "    <tr>\n",
       "      <td>1302</td>\n",
       "      <td>1.0</td>\n",
       "      <td>0.5</td>\n",
       "      <td>9.985043</td>\n",
       "      <td>3.765582</td>\n",
       "      <td>0.117115</td>\n",
       "      <td>4.203659</td>\n",
       "      <td>3.253788</td>\n",
       "      <td>1.954764</td>\n",
       "      <td>4.107946</td>\n",
       "    </tr>\n",
       "    <tr>\n",
       "      <td>1303</td>\n",
       "      <td>1.0</td>\n",
       "      <td>0.5</td>\n",
       "      <td>9.985764</td>\n",
       "      <td>3.765492</td>\n",
       "      <td>0.117882</td>\n",
       "      <td>4.202125</td>\n",
       "      <td>3.252299</td>\n",
       "      <td>1.953613</td>\n",
       "      <td>4.016758</td>\n",
       "    </tr>\n",
       "    <tr>\n",
       "      <td>1304</td>\n",
       "      <td>1.0</td>\n",
       "      <td>0.5</td>\n",
       "      <td>9.986628</td>\n",
       "      <td>3.765382</td>\n",
       "      <td>0.118809</td>\n",
       "      <td>4.200271</td>\n",
       "      <td>3.250500</td>\n",
       "      <td>1.952223</td>\n",
       "      <td>3.896013</td>\n",
       "    </tr>\n",
       "    <tr>\n",
       "      <td>1305</td>\n",
       "      <td>1.0</td>\n",
       "      <td>0.5</td>\n",
       "      <td>9.987663</td>\n",
       "      <td>3.765246</td>\n",
       "      <td>0.119931</td>\n",
       "      <td>4.198027</td>\n",
       "      <td>3.248325</td>\n",
       "      <td>1.950540</td>\n",
       "      <td>3.804253</td>\n",
       "    </tr>\n",
       "  </tbody>\n",
       "</table>\n",
       "</div>"
      ],
      "text/plain": [
       "      initial_mass  initial_feh  star_age  effective_T    radius     log_g  \\\n",
       "1301           1.0          0.5  9.984440     3.765655  0.116480  4.204929   \n",
       "1302           1.0          0.5  9.985043     3.765582  0.117115  4.203659   \n",
       "1303           1.0          0.5  9.985764     3.765492  0.117882  4.202125   \n",
       "1304           1.0          0.5  9.986628     3.765382  0.118809  4.200271   \n",
       "1305           1.0          0.5  9.987663     3.765246  0.119931  4.198027   \n",
       "\n",
       "        nu_max  delta_nu  delta_Pg  \n",
       "1301  3.255022  1.955716  4.333874  \n",
       "1302  3.253788  1.954764  4.107946  \n",
       "1303  3.252299  1.953613  4.016758  \n",
       "1304  3.250500  1.952223  3.896013  \n",
       "1305  3.248325  1.950540  3.804253  "
      ]
     },
     "execution_count": 2,
     "metadata": {},
     "output_type": "execute_result"
    }
   ],
   "source": [
    "datafile = '/Users/litz/Documents/GitHub/data/sg_simple_grid_mixed_modes/m1.0_feh0.5_MLT1.9_fov0.018.csv'\n",
    "data = pd.read_csv(datafile)\n",
    "#print(data.head())\n",
    "mode_l = '0'\n",
    "mode_n = ['10', '20']\n",
    "\n",
    "#mode_freq = 'nu_'+ mode_l + '_' +  mode_n\n",
    "#mode_inertia = 'E_'+ mode_l + '_' + mode_n\n",
    "\n",
    "#mode_freq = ['nu_0_%s' % s for s in mode_n]\n",
    "#mode_inertia = ['E_0_%s' % s for s in mode_n]\n",
    "\n",
    "sub_df_name = ['initial_mass','initial_feh','star_age','effective_T','radius','log_g','nu_max','delta_nu','delta_Pg']\n",
    "logcolumns = ['star_age','effective_T','radius','nu_max','delta_nu','delta_Pg']\n",
    "\n",
    "sub_df_name = np.array(sub_df_name)\n",
    "logcolumns = np.array(logcolumns)\n",
    "\n",
    "print(sub_df_name)\n",
    "sub_df = data[sub_df_name]\n",
    "sub_df[logcolumns] = np.log10(sub_df[logcolumns])\n",
    "sub_df = sub_df.replace([np.inf, -np.inf], np.nan)\n",
    "sub_df.isna().sum()\n",
    "sub_df = sub_df.dropna()\n",
    "#if n great than 1000 then\n",
    "#sub_df = sub_df.sample(n= 1000, random_state=1)\n",
    "sub_df = sub_df.sort_index()\n",
    "print(len(sub_df['star_age']))\n",
    "sub_df.head()\n",
    "\n"
   ]
  },
  {
   "cell_type": "code",
   "execution_count": 3,
   "metadata": {},
   "outputs": [
    {
     "data": {
      "text/plain": [
       "Text(0, 0.5, '$\\\\log(Pg)$ (s)')"
      ]
     },
     "execution_count": 3,
     "metadata": {},
     "output_type": "execute_result"
    },
    {
     "data": {
      "image/png": "[encoded data removed]",
      "text/plain": [
       "<Figure size 432x288 with 1 Axes>"
      ]
     },
     "metadata": {
      "needs_background": "light"
     },
     "output_type": "display_data"
    }
   ],
   "source": [
    "#data = np.genfromtxt('data/regression_1D.csv', delimiter=',')\n",
    "#X = data[:, 0].reshape(-1, 1)\n",
    "#Y = data[:, 1].reshape(-1, 1)\n",
    "\n",
    "age = sub_df['star_age'].to_numpy().reshape(-1, 1)\n",
    "teff = sub_df['effective_T'].to_numpy().reshape(-1, 1)\n",
    "radius = sub_df['radius'].to_numpy().reshape(-1, 1)\n",
    "log_g = sub_df['log_g'].to_numpy().reshape(-1, 1)\n",
    "nu_max = sub_df['nu_max'].to_numpy().reshape(-1, 1)\n",
    "delta_nu = sub_df['delta_nu'].to_numpy().reshape(-1, 1)\n",
    "delta_Pg = sub_df['delta_Pg'].to_numpy().reshape(-1, 1)\n",
    "\n",
    "X = age - np.min(age)\n",
    "X = X/np.max(X) + 1.0e-4\n",
    "Y =  delta_Pg - np.min(delta_Pg)\n",
    "Y = Y/np.max(Y) + 1.0e-4\n",
    "\n",
    "X = np.float64(X)\n",
    "Y =  np.float64(Y)\n",
    "\n",
    "plt.plot(X, Y, 'k', mew=2);\n",
    "plt.xlabel(r'$\\log$(Age) (Gyr)')\n",
    "plt.ylabel(r'$\\log(Pg)$ (s)')"
   ]
  },
  {
   "cell_type": "markdown",
   "metadata": {},
   "source": [
    "# Set up and inspect Kernels"
   ]
  },
  {
   "cell_type": "code",
   "execution_count": 4,
   "metadata": {},
   "outputs": [
    {
     "data": {
      "text/html": [
       "<table>\n",
       "<thead>\n",
       "<tr><th>name                </th><th>class    </th><th>transform  </th><th>trainable  </th><th>shape  </th><th>dtype  </th><th style=\"text-align: right;\">  value</th></tr>\n",
       "</thead>\n",
       "<tbody>\n",
       "<tr><td>Matern12.variance   </td><td>Parameter</td><td>Softplus   </td><td>True       </td><td>()     </td><td>float64</td><td style=\"text-align: right;\">      1</td></tr>\n",
       "<tr><td>Matern12.lengthscale</td><td>Parameter</td><td>Softplus   </td><td>True       </td><td>()     </td><td>float64</td><td style=\"text-align: right;\">      1</td></tr>\n",
       "</tbody>\n",
       "</table>"
      ],
      "text/plain": [
       "<IPython.core.display.HTML object>"
      ]
     },
     "metadata": {},
     "output_type": "display_data"
    }
   ],
   "source": [
    "#basic kernels\n",
    "constant = gpflow.kernels.Constant(variance=1.0, active_dims=None)\n",
    "linear = gpflow.kernels.Linear(variance=1.0, active_dims=None)\n",
    "poly2 = gpflow.kernels.Polynomial(degree=2.0, variance=1.0, offset=1.0, active_dims=None)\n",
    "poly3 = gpflow.kernels.Polynomial(degree=3.0, variance=1.0, offset=1.0, active_dims=None)\n",
    "poly4 = gpflow.kernels.Polynomial(degree=4.0, variance=1.0, offset=1.0, active_dims=None)\n",
    "cosine = gpflow.kernels.Cosine(variance=1.0, lengthscale=1.0)\n",
    "arccosine = gpflow.kernels.ArcCosine(order=0, variance=1.0, weight_variances=1.0, bias_variance=1.0, active_dims=None)\n",
    "exponential = gpflow.kernels.Exponential(variance=1.0, lengthscale=1.0)# f = ab^x\n",
    "\n",
    "#The periodic family of kernels. \n",
    "periodic = gpflow.kernels.Periodic(period=1.0)\n",
    "\n",
    "#The radial basis function or squared exponential kernel\n",
    "se = gpflow.kernels.SquaredExponential(variance=1.0, lengthscale=1.0)\n",
    "#Rational Quadratic kernel: adding together many se(rbf) kernels with different lengthscales\n",
    "rq = gpflow.kernels.RationalQuadratic(variance=1.0, lengthscale=1.0, alpha=1.0, active_dims=None)\n",
    "\n",
    "#The Matern 1/2 kernel. Functions drawn from a GP with this kernel are not differentiable anywhere.\n",
    "matern12 = gpflow.kernels.Matern12(variance=1.0, lengthscale=1.0)\n",
    "#The Matern 3/2 kernel. Functions drawn from a GP with this kernel are once differentiable.\n",
    "matern32 = gpflow.kernels.Matern32(variance=1.0, lengthscale=1.0)\n",
    "#The Matern 5/2 kernel. Functions drawn from a GP with this kernel are twice differentiable. \n",
    "matern52 = gpflow.kernels.Matern52(variance=1.0, lengthscale=1.0)\n",
    "\n",
    "#Kernels who don’t depend on the value of the inputs are ‘Static’. The only parameter is a variance, σ².\n",
    "static = gpflow.kernels.Static(variance=1.0, active_dims=None)\n",
    "#The White kernel: this kernel produces ‘white noise’\n",
    "white = gpflow.kernels.White(variance=1.0, active_dims=None)\n",
    "\n",
    "#other useful lines\n",
    "#gpflow.kernels.ChangePoints(kernels, locations, steepness=1.0, name=None)\n",
    "#gpflow.kernels.Combination(kernels, name=None)\n",
    "#gpflow.kernels.LinearCoregionalization(kernels, W, name=None) #e.g correlated data sets two mixed modes \n",
    "\n",
    "#Multi Output Kernel class. This kernel can represent correlation between outputs of different datapoints. \n",
    "#gpflow.kernels.MultioutputKernel(active_dims=None, name=None)\n",
    "\n",
    "k = matern12\n",
    "print_summary(k, fmt = \"notebook\")"
   ]
  },
  {
   "cell_type": "code",
   "execution_count": 5,
   "metadata": {},
   "outputs": [
    {
     "data": {
      "image/png": "[encoded data removed]",
      "text/plain": [
       "<Figure size 864x432 with 4 Axes>"
      ]
     },
     "metadata": {
      "needs_background": "light"
     },
     "output_type": "display_data"
    }
   ],
   "source": [
    "def plotkernelfunction(k, ax, xmin=-3, xmax=3, other=0):\n",
    "    xx = np.linspace(xmin, xmax, 200)[:,None]\n",
    "    ax.plot(xx, k(xx, np.zeros((1,1)) + other))\n",
    "    ax.set_title(k.__class__.__name__ + ' k(x, %f)'%other)\n",
    "\n",
    "f, axes = plt.subplots(2, 2, figsize=(12, 6), sharex=True)\n",
    "plotkernelfunction(rq, axes[0, 0], other=1.)\n",
    "plotkernelfunction(matern32, axes[0, 1], other=1.)\n",
    "plotkernelfunction(white, axes[1, 0], other=1.)\n",
    "plotkernelfunction(periodic, axes[1, 1], other=1.)"
   ]
  },
  {
   "cell_type": "code",
   "execution_count": 9,
   "metadata": {},
   "outputs": [],
   "source": [
    "def objective_closure():\n",
    "    return - m.log_marginal_likelihood()"
   ]
  },
  {
   "cell_type": "code",
   "execution_count": 12,
   "metadata": {},
   "outputs": [
    {
     "ename": "TypeError",
     "evalue": "Callable object expected.",
     "output_type": "error",
     "traceback": [
      "\u001b[0;31m---------------------------------------------------------------------------\u001b[0m",
      "\u001b[0;31mTypeError\u001b[0m                                 Traceback (most recent call last)",
      "\u001b[0;32m<ipython-input-12-e19ef8ead3f5>\u001b[0m in \u001b[0;36m<module>\u001b[0;34m\u001b[0m\n\u001b[1;32m      4\u001b[0m opt_logs = opt.minimize(objective_closure(m1),\n\u001b[1;32m      5\u001b[0m                         \u001b[0mm1\u001b[0m\u001b[0;34m.\u001b[0m\u001b[0mtrainable_variables\u001b[0m\u001b[0;34m,\u001b[0m\u001b[0;34m\u001b[0m\u001b[0;34m\u001b[0m\u001b[0m\n\u001b[0;32m----> 6\u001b[0;31m                         options=dict(maxiter=100))\n\u001b[0m\u001b[1;32m      7\u001b[0m \u001b[0mprint_summary\u001b[0m\u001b[0;34m(\u001b[0m\u001b[0mm1\u001b[0m\u001b[0;34m,\u001b[0m \u001b[0mfmt\u001b[0m \u001b[0;34m=\u001b[0m \u001b[0;34m\"notebook\"\u001b[0m\u001b[0;34m)\u001b[0m\u001b[0;34m\u001b[0m\u001b[0;34m\u001b[0m\u001b[0m\n\u001b[1;32m      8\u001b[0m \u001b[0;31m# generate test points for prediction\u001b[0m\u001b[0;34m\u001b[0m\u001b[0;34m\u001b[0m\u001b[0;34m\u001b[0m\u001b[0m\n",
      "\u001b[0;32m/opt/anaconda3/lib/python3.7/site-packages/gpflow/optimizers/scipy.py\u001b[0m in \u001b[0;36mminimize\u001b[0;34m(self, closure, variables, method, step_callback, **scipy_kwargs)\u001b[0m\n\u001b[1;32m     46\u001b[0m         \"\"\"\n\u001b[1;32m     47\u001b[0m         \u001b[0;32mif\u001b[0m \u001b[0;32mnot\u001b[0m \u001b[0mcallable\u001b[0m\u001b[0;34m(\u001b[0m\u001b[0mclosure\u001b[0m\u001b[0;34m)\u001b[0m\u001b[0;34m:\u001b[0m\u001b[0;34m\u001b[0m\u001b[0;34m\u001b[0m\u001b[0m\n\u001b[0;32m---> 48\u001b[0;31m             \u001b[0;32mraise\u001b[0m \u001b[0mTypeError\u001b[0m\u001b[0;34m(\u001b[0m\u001b[0;34m'Callable object expected.'\u001b[0m\u001b[0;34m)\u001b[0m  \u001b[0;31m# pragma: no cover\u001b[0m\u001b[0;34m\u001b[0m\u001b[0;34m\u001b[0m\u001b[0m\n\u001b[0m\u001b[1;32m     49\u001b[0m         \u001b[0minitial_params\u001b[0m \u001b[0;34m=\u001b[0m \u001b[0mself\u001b[0m\u001b[0;34m.\u001b[0m\u001b[0minitial_parameters\u001b[0m\u001b[0;34m(\u001b[0m\u001b[0mvariables\u001b[0m\u001b[0;34m)\u001b[0m\u001b[0;34m\u001b[0m\u001b[0;34m\u001b[0m\u001b[0m\n\u001b[1;32m     50\u001b[0m \u001b[0;34m\u001b[0m\u001b[0m\n",
      "\u001b[0;31mTypeError\u001b[0m: Callable object expected."
     ]
    }
   ],
   "source": [
    "k = poly3\n",
    "m = gpflow.models.GPR(data=(X, Y), kernel=k, mean_function=None)\n",
    "opt = gpflow.optimizers.Scipy()\n",
    "opt_logs = opt.minimize(objective_closure,\n",
    "                        m.trainable_variables,\n",
    "                        options=dict(maxiter=100))\n",
    "print_summary(m, fmt = \"notebook\")\n",
    "# generate test points for prediction\n",
    "xx = X  # test points must be of shape (N, D)\n",
    "\n",
    "## predict mean and variance of latent GP at test points\n",
    "mean, var = m.predict_f(xx)\n",
    "\n",
    "## generate 10 samples from posterior\n",
    "samples = m.predict_f_samples(xx, 10)  # shape (10, 100, 1)\n",
    "\n",
    "## plot \n",
    "plt.figure(figsize=(12, 6))\n",
    "plt.plot(X, Y, 'k.', mew=2)\n",
    "plt.errorbar(xx, mean, yerr = var,c ='C0', lw=2)\n",
    "plt.title('GP prediction with SE')\n",
    "plt.fill_between(xx[:,0],\n",
    "                 mean[:,0] - 1.96 * np.sqrt(var[:,0]),\n",
    "                 mean[:,0] + 1.96 * np.sqrt(var[:,0]),\n",
    "                 color='C0', alpha=0.2)\n",
    "\n",
    "plt.plot(xx, samples[:, :, 0].numpy().T, 'C0', linewidth=.5)\n",
    "#plt.xlim(-0.1, 1.1);"
   ]
  },
  {
   "cell_type": "code",
   "execution_count": null,
   "metadata": {},
   "outputs": [],
   "source": [
    "k = matern12\n",
    "m = gpflow.models.GPR(data=(X, Y), kernel=k, mean_function=None)\n",
    "opt = gpflow.optimizers.Scipy()\n",
    "opt_logs = opt.minimize(objective_closure,\n",
    "                        m.trainable_variables,\n",
    "                        options=dict(maxiter=100))\n",
    "print_summary(m, fmt = \"notebook\")\n",
    "# generate test points for prediction\n",
    "xx = X  # test points must be of shape (N, D)\n",
    "\n",
    "## predict mean and variance of latent GP at test points\n",
    "mean, var = m.predict_f(xx)\n",
    "\n",
    "## generate 10 samples from posterior\n",
    "samples = m.predict_f_samples(xx, 10)  # shape (10, 100, 1)\n",
    "\n",
    "## plot \n",
    "plt.figure(figsize=(12, 6))\n",
    "plt.plot(X, Y, 'k.', mew=2)\n",
    "plt.errorbar(xx, mean, yerr = var,c ='C0', lw=2)\n",
    "plt.title('GP prediction with Matern12')\n",
    "plt.fill_between(xx[:,0],\n",
    "                 mean[:,0] - 1.96 * np.sqrt(var[:,0]),\n",
    "                 mean[:,0] + 1.96 * np.sqrt(var[:,0]),\n",
    "                 color='C0', alpha=0.2)\n",
    "\n",
    "plt.plot(xx, samples[:, :, 0].numpy().T, 'C0', linewidth=.5)\n",
    "#plt.xlim(-0.1, 1.1);"
   ]
  },
  {
   "cell_type": "code",
   "execution_count": null,
   "metadata": {},
   "outputs": [],
   "source": [
    "k = rq\n",
    "m = gpflow.models.GPR(data=(X, Y), kernel=k, mean_function=None)\n",
    "opt = gpflow.optimizers.Scipy()\n",
    "opt_logs = opt.minimize(objective_closure,\n",
    "                        m.trainable_variables,\n",
    "                        options=dict(maxiter=100))\n",
    "print_summary(m, fmt = \"notebook\")\n",
    "# generate test points for prediction\n",
    "xx = X  # test points must be of shape (N, D)\n",
    "\n",
    "## predict mean and variance of latent GP at test points\n",
    "mean, var = m.predict_f(xx)\n",
    "\n",
    "## generate 10 samples from posterior\n",
    "samples = m.predict_f_samples(xx, 10)  # shape (10, 100, 1)\n",
    "\n",
    "## plot \n",
    "plt.figure(figsize=(12, 6))\n",
    "plt.plot(X, Y, 'k.', mew=2)\n",
    "plt.errorbar(xx, mean, yerr = var,c ='C0', lw=2)\n",
    "plt.title('GP prediction with rq')\n",
    "plt.fill_between(xx[:,0],\n",
    "                 mean[:,0] - 1.96 * np.sqrt(var[:,0]),\n",
    "                 mean[:,0] + 1.96 * np.sqrt(var[:,0]),\n",
    "                 color='C0', alpha=0.2)\n",
    "\n",
    "plt.plot(xx, samples[:, :, 0].numpy().T, 'C0', linewidth=.5)\n",
    "#plt.xlim(-0.1, 1.1);"
   ]
  },
  {
   "cell_type": "code",
   "execution_count": null,
   "metadata": {},
   "outputs": [],
   "source": [
    "k = linear + rq \n",
    "m = gpflow.models.GPR(data=(X, Y), kernel=k, mean_function=None)\n",
    "opt = gpflow.optimizers.Scipy()\n",
    "opt_logs = opt.minimize(objective_closure,\n",
    "                        m.trainable_variables,\n",
    "                        options=dict(maxiter=100))\n",
    "print_summary(m, fmt = \"notebook\")\n",
    "# generate test points for prediction\n",
    "xx = X  # test points must be of shape (N, D)\n",
    "\n",
    "## predict mean and variance of latent GP at test points\n",
    "mean, var = m.predict_f(xx)\n",
    "\n",
    "## generate 10 samples from posterior\n",
    "samples = m.predict_f_samples(xx, 10)  # shape (10, 100, 1)\n",
    "\n",
    "## plot \n",
    "plt.figure(figsize=(12, 6))\n",
    "plt.plot(X, Y, 'k.', mew=2)\n",
    "plt.errorbar(xx, mean, yerr = var,c ='C0', lw=2)\n",
    "plt.title('GP prediction with linear')\n",
    "plt.fill_between(xx[:,0],\n",
    "                 mean[:,0] - 1.96 * np.sqrt(var[:,0]),\n",
    "                 mean[:,0] + 1.96 * np.sqrt(var[:,0]),\n",
    "                 color='C0', alpha=0.2)\n",
    "\n",
    "plt.plot(xx, samples[:, :, 0].numpy().T, 'C0', linewidth=.5)\n",
    "#plt.xlim(-0.1, 1.1);"
   ]
  },
  {
   "cell_type": "code",
   "execution_count": null,
   "metadata": {},
   "outputs": [],
   "source": [
    "k = rq + linear\n",
    "m = gpflow.models.GPR(data=(X, Y), kernel=k, mean_function=None)\n",
    "opt = gpflow.optimizers.Scipy()\n",
    "opt_logs = opt.minimize(objective_closure,\n",
    "                        m.trainable_variables,\n",
    "                        options=dict(maxiter=1000))\n",
    "print_summary(m, fmt = \"notebook\")\n",
    "# generate test points for prediction\n",
    "xx = X  # test points must be of shape (N, D)\n",
    "\n",
    "## predict mean and variance of latent GP at test points\n",
    "mean, var = m.predict_f(xx)\n",
    "\n",
    "## generate 10 samples from posterior\n",
    "samples = m.predict_f_samples(xx, 10)  # shape (10, 100, 1)\n",
    "\n",
    "## plot \n",
    "plt.figure(figsize=(12, 6))\n",
    "plt.plot(X, Y, 'k.', mew=2)\n",
    "plt.errorbar(xx, mean, yerr = var,c ='C0', lw=2)\n",
    "plt.title('GP prediction with ploy3+se')\n",
    "plt.fill_between(xx[:,0],\n",
    "                 mean[:,0] - 1.96 * np.sqrt(var[:,0]),\n",
    "                 mean[:,0] + 1.96 * np.sqrt(var[:,0]),\n",
    "                 color='C0', alpha=0.2)\n",
    "\n",
    "plt.plot(xx, samples[:, :, 0].numpy().T, 'C0', linewidth=.5)\n",
    "#plt.xlim(-0.1, 1.1);"
   ]
  },
  {
   "cell_type": "code",
   "execution_count": null,
   "metadata": {},
   "outputs": [],
   "source": []
  },
  {
   "cell_type": "code",
   "execution_count": null,
   "metadata": {},
   "outputs": [],
   "source": []
  }
 ],
 "metadata": {
  "kernelspec": {
   "display_name": "Python 3",
   "language": "python",
   "name": "python3"
  },
  "language_info": {
   "codemirror_mode": {
    "name": "ipython",
    "version": 3
   },
   "file_extension": ".py",
   "mimetype": "text/x-python",
   "name": "python",
   "nbconvert_exporter": "python",
   "pygments_lexer": "ipython3",
   "version": "3.7.4"
  }
 },
 "nbformat": 4,
 "nbformat_minor": 2
}
